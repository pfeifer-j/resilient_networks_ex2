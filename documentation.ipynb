{
 "cells": [
  {
   "cell_type": "markdown",
   "metadata": {},
   "source": [
    "# Exercise 1\n",
    "\n",
    "## Group Information\n",
    "- Group Members: Luca Gebhardt, Jan Pfeifer\n",
    "- Date: 10.11.2023\n",
    "- Code: See .zip-file and https://github.com/pfeifer-j/resilient_networks_ex1 "
   ]
  },
  {
   "cell_type": "markdown",
   "metadata": {},
   "source": [
    "\n",
    "## Introduction\n",
    "In this exercise, we explore and analyze a directed and an undirected graph using Python and the igraph library. We present our data using Jupyter Notebook."
   ]
  },
  {
   "cell_type": "markdown",
   "metadata": {},
   "source": [
    "## Approach\n",
    "### Step 1: Data Preparation\n",
    "- We acquired the dataset located in the 'data' directory.\n",
    "  - Gnutella09 (https://snap.stanford.edu/data/p2p-Gnutella09.html)\n",
    "  - lastfm_asia (https://snap.stanford.edu/data/feather-lastfm-social.html)\n",
    "\n",
    "Gnutella is a directed peer-to-peer network. It has 8,114 nodes and 26,013 edges.\n",
    "Lastfm_asia is an undirected social network graph. It has 7600 nodes and 27806 edges.\n",
    "We chose these two graphs because they are similar in size, but different in direction and general structure, which makes for an interesting comparison.\n",
    "\n",
    "### Step 2: Analysis and Interpretation\n",
    "- We computed the following metrics for both graphs:\n",
    "  1. Average path length\n",
    "  2. Density\n",
    "  3. Average clustering coefficient\n",
    "  4. Distribution of clustering coefficient\n",
    "  5. Distribution of cohesiveness\n",
    "  6. Edge persistence under greedy attack\n",
    "  7. Edge persistence under random attack \n",
    "\n",
    "  \n",
    "Finally, we interpret the metrics for both graphs and compare them with each other. The results are plotted using matplotlib."
   ]
  },
  {
   "cell_type": "markdown",
   "metadata": {},
   "source": [
    "## Analysis and Interpretation"
   ]
  },
  {
   "cell_type": "markdown",
   "metadata": {},
   "source": [
    "### Gnutella | Directed Graph"
   ]
  },
  {
   "cell_type": "code",
   "execution_count": 14,
   "metadata": {
    "ExecuteTime": {
     "end_time": "2023-11-09T09:36:19.905262265Z",
     "start_time": "2023-11-09T09:36:19.228440069Z"
    }
   },
   "outputs": [],
   "source": [
    "# Generating the graph\n",
    "import os\n",
    "from src.GraphInput import TxtFileGraphInput\n",
    "import matplotlib.pyplot as plt\n",
    "\n",
    "file_path = os.path.join(\n",
    "    os.getcwd(), \"data/p2p-Gnutella09/p2p-Gnutella09.txt\"\n",
    ")\n",
    "\n",
    "input = TxtFileGraphInput()\n",
    "input.read_input_file_and_convert(file_path, directed=True)"
   ]
  },
  {
   "cell_type": "code",
   "execution_count": 15,
   "metadata": {
    "ExecuteTime": {
     "end_time": "2023-11-09T09:38:08.639131063Z",
     "start_time": "2023-11-09T09:36:20.432292334Z"
    }
   },
   "outputs": [
    {
     "name": "stdout",
     "output_type": "stream",
     "text": [
      "Density:  0.0003951608960942098\n",
      "Average path length:  7.054623534882817\n",
      "Average clustering coefficient:  0.07314316246453513\n",
      "Edge persistence under greedy targeted attack:  16\n",
      "Edge persistence under random attack:  195\n"
     ]
    }
   ],
   "source": [
    "# Density\n",
    "print(\"Density: \", input.computed_density())\n",
    "\n",
    "# Average Path Length\n",
    "print(\"Average path length: \", input.compute_average_path_length())\n",
    "\n",
    "# Average Clustering Coefficient\n",
    "print(\"Average clustering coefficient: \", input.compute_clustering_coefficient()[0])\n",
    "\n",
    "# Edge persistence under greedy targeted attack\n",
    "print(\"Edge persistence under greedy targeted attack: \", input.compute_edge_persistence_under_greedy_attack())\n",
    "\n",
    "# Edge persistence under random attack\n",
    "print(\"Edge persistence under random attack: \",input.compute_edge_persistence_under_random_attack())"
   ]
  },
  {
   "cell_type": "code",
   "execution_count": 16,
   "metadata": {
    "ExecuteTime": {
     "end_time": "2023-11-09T09:38:08.795681049Z",
     "start_time": "2023-11-09T09:38:08.629455188Z"
    }
   },
   "outputs": [
    {
     "data": {
      "image/png": "[encoded data removed]",
      "text/plain": [
       "<Figure size 640x480 with 1 Axes>"
      ]
     },
     "metadata": {},
     "output_type": "display_data"
    }
   ],
   "source": [
    "# Clustering Coefficient Distribution\n",
    "clustering_coefficient_distribution = input.compute_clustering_coefficient()[1]\n",
    "values = list(clustering_coefficient_distribution.keys())\n",
    "\n",
    "plt.hist(values, bins=20, alpha=0.5, color='b', edgecolor='k')\n",
    "plt.xlabel('Clustering Coefficient')\n",
    "plt.ylabel('Frequency')\n",
    "\n",
    "plt.show()"
   ]
  },
  {
   "cell_type": "code",
   "execution_count": 17,
   "metadata": {
    "ExecuteTime": {
     "end_time": "2023-11-09T09:38:34.884449735Z",
     "start_time": "2023-11-09T09:38:08.837200611Z"
    }
   },
   "outputs": [
    {
     "name": "stdout",
     "output_type": "stream",
     "text": [
      "Minimal cohesiveness:  8114\n",
      "Maximal cohesiveness:  8114\n"
     ]
    },
    {
     "data": {
      "image/png": "[encoded data removed]",
      "text/plain": [
       "<Figure size 640x480 with 1 Axes>"
      ]
     },
     "metadata": {},
     "output_type": "display_data"
    }
   ],
   "source": [
    "# Distribution of Cohesiveness\n",
    "cohesiveness_values = input.compute_cohesiveness_distribution()\n",
    "values = list(cohesiveness_values.values())\n",
    "\n",
    "print(\"Minimal cohesiveness: \",  min(values))\n",
    "print(\"Maximal cohesiveness: \",  max(values))\n",
    "\n",
    "plt.hist(values, bins=20, alpha=0.5, color='b', edgecolor='k')\n",
    "plt.xlabel('Cohesiveness')\n",
    "plt.ylabel('Frequency')\n",
    "\n",
    "plt.show()"
   ]
  },
  {
   "cell_type": "markdown",
   "metadata": {
    "collapsed": false
   },
   "source": [
    "#### Gnutella discussion\n",
    "\n",
    "Gnutella has a density of 0.000395. A low density like this means that this graph is far away from being fully connected. In addition, the examined graph has an average path length of 7.05. Furthermore, the Gnutella graph has an average clustering coefficient of 0.073. This value is relatively low, indicating that the graph has a lower tendency for nodes to form tightly-connected clusters. This might suggest a more decentralized or loosely connected structure. The cohesiveness of 8114 indicates a relatively strong internal connectivity. Finally, the random and greedy attacks show that a greedy attack on the nodes with the highest degree is more effective than a random attack to increase the edge persistence."
   ]
  },
  {
   "cell_type": "markdown",
   "metadata": {},
   "source": [
    "### lastfm_asia | Undirected Graph"
   ]
  },
  {
   "cell_type": "code",
   "execution_count": 18,
   "metadata": {
    "ExecuteTime": {
     "end_time": "2023-11-09T09:38:34.944078945Z",
     "start_time": "2023-11-09T09:38:34.884798127Z"
    }
   },
   "outputs": [],
   "source": [
    "# Generating the graph\n",
    "import os\n",
    "from src.GraphInput import CsvFileGraphInput\n",
    "import matplotlib.pyplot as plt\n",
    "\n",
    "file_path = os.path.join(\n",
    "    os.getcwd(), \"data/lastfm_asia/lastfm_asia_edges.csv\"\n",
    ")\n",
    "\n",
    "input = CsvFileGraphInput()\n",
    "input.read_input_file_and_convert(file_path, directed=False)"
   ]
  },
  {
   "cell_type": "code",
   "execution_count": 19,
   "metadata": {
    "ExecuteTime": {
     "end_time": "2023-11-09T09:53:51.018202485Z",
     "start_time": "2023-11-09T09:38:36.874750024Z"
    }
   },
   "outputs": [
    {
     "name": "stdout",
     "output_type": "stream",
     "text": [
      "Density:  0.0009568849118596329\n",
      "Average path length:  5.232237268915701\n",
      "Average clustering coefficient:  0.5792989035189058\n",
      "Edge persistence under greedy targeted attack:  57\n",
      "Edge persistence under random attack:  442\n"
     ]
    }
   ],
   "source": [
    "# Density\n",
    "print(\"Density: \", input.computed_density())\n",
    "\n",
    "# Average Path Length\n",
    "print(\"Average path length: \", input.compute_average_path_length())\n",
    "\n",
    "# Average Clustering Coefficient\n",
    "print(\"Average clustering coefficient: \", input.compute_clustering_coefficient()[0])\n",
    "\n",
    "# Edge persistence under greedy targeted attack\n",
    "print(\"Edge persistence under greedy targeted attack: \", input.compute_edge_persistence_under_greedy_attack())\n",
    "\n",
    "# Edge persistence under random attack\n",
    "print(\"Edge persistence under random attack: \",input.compute_edge_persistence_under_random_attack())"
   ]
  },
  {
   "cell_type": "code",
   "execution_count": 20,
   "metadata": {
    "ExecuteTime": {
     "end_time": "2023-11-09T09:53:51.206254535Z",
     "start_time": "2023-11-09T09:53:51.002289932Z"
    }
   },
   "outputs": [
    {
     "data": {
      "image/png": "[encoded data removed]",
      "text/plain": [
       "<Figure size 640x480 with 1 Axes>"
      ]
     },
     "metadata": {},
     "output_type": "display_data"
    }
   ],
   "source": [
    "# Clustering Coefficient Distribution\n",
    "clustering_coefficient_distribution = input.compute_clustering_coefficient()[1]\n",
    "values = list(clustering_coefficient_distribution.keys())\n",
    "\n",
    "plt.hist(values, bins=20, alpha=0.5, color='b', edgecolor='k')\n",
    "plt.xlabel('Clustering Coefficient')\n",
    "plt.ylabel('Frequency')\n",
    "\n",
    "plt.show()"
   ]
  },
  {
   "cell_type": "code",
   "execution_count": 21,
   "metadata": {
    "ExecuteTime": {
     "end_time": "2023-11-09T09:54:03.402039423Z",
     "start_time": "2023-11-09T09:53:51.206745462Z"
    }
   },
   "outputs": [
    {
     "name": "stdout",
     "output_type": "stream",
     "text": [
      "Minimal cohesiveness:  1338\n",
      "Maximal cohesiveness:  6286\n"
     ]
    },
    {
     "data": {
      "image/png": "[encoded data removed]",
      "text/plain": [
       "<Figure size 640x480 with 1 Axes>"
      ]
     },
     "metadata": {},
     "output_type": "display_data"
    }
   ],
   "source": [
    "# Distribution of Cohesiveness\n",
    "cohesiveness_values = input.compute_cohesiveness_distribution()\n",
    "values = list(cohesiveness_values.values())\n",
    "\n",
    "print(\"Minimal cohesiveness: \",  min(values))\n",
    "print(\"Maximal cohesiveness: \",  max(values))\n",
    "\n",
    "plt.hist(values, bins=20, alpha=0.5, color='b', edgecolor='k')\n",
    "plt.xlabel('Cohesiveness')\n",
    "plt.ylabel('Frequency')\n",
    "\n",
    "plt.show()"
   ]
  },
  {
   "cell_type": "code",
   "execution_count": null,
   "metadata": {},
   "outputs": [],
   "source": []
  },
  {
   "cell_type": "markdown",
   "metadata": {},
   "source": [
    "#### Lastfm Discussion\n",
    "The density of 0.000957 is low, indicating a sparse graph with relatively few connections. The average number of steps to travel between nodes suggests moderate efficiency in information propagation, with a value of 5.23. The average clustering coefficient reflects moderate local connectivity, with a value of 0.579, indicating how well neighbors of nodes are connected.\n",
    "The cohesiveness is separated into nodes with values of 1338 and 6286. As observed in the Gnutella analysis, the greedy attack proves to be significantly more effective than the random attack in Lastfm. Removing nodes through a greedy attack requires almost 8 times more removals to increase the network's edge connectivity."
   ]
  },
  {
   "cell_type": "markdown",
   "metadata": {},
   "source": [
    "## Conclusion\n",
    "Comparing the graph metrics of Gnutella and lastfm networks, both exhibit low density, indicating sparse connectivity. However, the lastfm graph has a somewhat lower density than Gnutella. In terms of average path length, Gnutella has a longer path length (7.05) compared to lastfm (5.23), implying more efficient information propagation in the latter. The average clustering coefficient is significantly higher in lastfm, indicating stronger local connectivity. Lastly, both networks show a preference for greedy attacks on high-degree nodes to increase edge persistence, similar to Gnutella. Though both graphs are earlier affected by greedy attacks, the lastfm graph shows a higher resilience against both attacks. Gnutella's edge persistence of 16 is considerably lower than lastfms edge persistence of 57 when they are facing a greedy attack. A similar difference can be observed with the random attack just with higher values. However, the lastfm graph is more resilient against attacks. An assumption is that, due to its direction lastfm is more resilient against attacks that target the edge persistence. Overall, lastfm appears to have a more tightly connected structure with more efficient information flow. One advantage of the Gnutella graph is its decentralized and peer-to-peer nature. This design allows scalability in file-sharing and content distribution networks. It can adapt and continue to function even when individual nodes join or leave the network, which can be advantageous for maintaining network availability."
   ]
  }
 ],
 "metadata": {
  "kernelspec": {
   "display_name": "base",
   "language": "python",
   "name": "python3"
  },
  "language_info": {
   "codemirror_mode": {
    "name": "ipython",
    "version": 3
   },
   "file_extension": ".py",
   "mimetype": "text/x-python",
   "name": "python",
   "nbconvert_exporter": "python",
   "pygments_lexer": "ipython3",
   "version": "3.11.5"
  }
 },
 "nbformat": 4,
 "nbformat_minor": 2
}
